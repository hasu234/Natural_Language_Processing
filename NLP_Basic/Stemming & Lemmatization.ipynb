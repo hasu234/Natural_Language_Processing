{
 "cells": [
  {
   "cell_type": "markdown",
   "id": "800540b3",
   "metadata": {},
   "source": [
    "## Stemming"
   ]
  },
  {
   "cell_type": "code",
   "execution_count": 2,
   "id": "e79b9065",
   "metadata": {},
   "outputs": [],
   "source": [
    "import nltk"
   ]
  },
  {
   "cell_type": "code",
   "execution_count": 3,
   "id": "d85c4aa6",
   "metadata": {},
   "outputs": [],
   "source": [
    "from nltk.stem.porter import PorterStemmer"
   ]
  },
  {
   "cell_type": "code",
   "execution_count": 4,
   "id": "8486fa92",
   "metadata": {},
   "outputs": [],
   "source": [
    "p_stemmer = PorterStemmer()"
   ]
  },
  {
   "cell_type": "code",
   "execution_count": 14,
   "id": "b908b823",
   "metadata": {},
   "outputs": [],
   "source": [
    "words = ['run', 'runner', 'ran', 'runs', 'easily', 'fairly', 'fairness']"
   ]
  },
  {
   "cell_type": "code",
   "execution_count": 15,
   "id": "eb7acfcd",
   "metadata": {},
   "outputs": [
    {
     "name": "stdout",
     "output_type": "stream",
     "text": [
      "run------>run\n",
      "runner------>runner\n",
      "ran------>ran\n",
      "runs------>run\n",
      "easily------>easili\n",
      "fairly------>fairli\n",
      "fairness------>fair\n"
     ]
    }
   ],
   "source": [
    "for word in words:\n",
    "    print(word + '------>' + p_stemmer.stem(word))"
   ]
  },
  {
   "cell_type": "code",
   "execution_count": 8,
   "id": "474600a4",
   "metadata": {},
   "outputs": [],
   "source": [
    "from nltk.stem.snowball import SnowballStemmer"
   ]
  },
  {
   "cell_type": "code",
   "execution_count": 10,
   "id": "2ab8c2f8",
   "metadata": {},
   "outputs": [],
   "source": [
    "s_stemmer = SnowballStemmer(language='english')"
   ]
  },
  {
   "cell_type": "code",
   "execution_count": 16,
   "id": "dc54dfac",
   "metadata": {},
   "outputs": [
    {
     "name": "stdout",
     "output_type": "stream",
     "text": [
      "run----->run\n",
      "runner----->runner\n",
      "ran----->ran\n",
      "runs----->run\n",
      "easily----->easili\n",
      "fairly----->fair\n",
      "fairness----->fair\n"
     ]
    }
   ],
   "source": [
    "for word in words:\n",
    "    print(word + '----->' + s_stemmer.stem(word))"
   ]
  },
  {
   "cell_type": "code",
   "execution_count": 17,
   "id": "8780fcd4",
   "metadata": {},
   "outputs": [],
   "source": [
    "words = ['generous', 'generation', 'generously', 'generate']"
   ]
  },
  {
   "cell_type": "code",
   "execution_count": 18,
   "id": "e753af59",
   "metadata": {},
   "outputs": [
    {
     "name": "stdout",
     "output_type": "stream",
     "text": [
      "generous----->generous\n",
      "generation----->generat\n",
      "generously----->generous\n",
      "generate----->generat\n"
     ]
    }
   ],
   "source": [
    "for word in words:\n",
    "    print(word + '----->' + s_stemmer.stem(word))"
   ]
  },
  {
   "cell_type": "markdown",
   "id": "3832d807",
   "metadata": {},
   "source": [
    "## Lemmatization"
   ]
  },
  {
   "cell_type": "code",
   "execution_count": 1,
   "id": "b1253891",
   "metadata": {},
   "outputs": [],
   "source": [
    "import spacy"
   ]
  },
  {
   "cell_type": "code",
   "execution_count": 2,
   "id": "6b927146",
   "metadata": {},
   "outputs": [],
   "source": [
    "nlp = spacy.load('en_core_web_sm')"
   ]
  },
  {
   "cell_type": "code",
   "execution_count": 6,
   "id": "651b0931",
   "metadata": {},
   "outputs": [],
   "source": [
    "doc = nlp(u\"I am a runner running in a race because I love to run since I ran today.\")"
   ]
  },
  {
   "cell_type": "code",
   "execution_count": 8,
   "id": "00a654c3",
   "metadata": {},
   "outputs": [
    {
     "name": "stdout",
     "output_type": "stream",
     "text": [
      "I \t PRON \t 561228191312463089 \t -PRON-\n",
      "am \t VERB \t 10382539506755952630 \t be\n",
      "a \t DET \t 11901859001352538922 \t a\n",
      "runner \t NOUN \t 12640964157389618806 \t runner\n",
      "running \t VERB \t 12767647472892411841 \t run\n",
      "in \t ADP \t 3002984154512732771 \t in\n",
      "a \t DET \t 11901859001352538922 \t a\n",
      "race \t NOUN \t 8048469955494714898 \t race\n",
      "because \t ADP \t 16950148841647037698 \t because\n",
      "I \t PRON \t 561228191312463089 \t -PRON-\n",
      "love \t VERB \t 3702023516439754181 \t love\n",
      "to \t PART \t 3791531372978436496 \t to\n",
      "run \t VERB \t 12767647472892411841 \t run\n",
      "since \t ADP \t 10066841407251338481 \t since\n",
      "I \t PRON \t 561228191312463089 \t -PRON-\n",
      "ran \t VERB \t 12767647472892411841 \t run\n",
      "today \t NOUN \t 11042482332948150395 \t today\n",
      ". \t PUNCT \t 12646065887601541794 \t .\n"
     ]
    }
   ],
   "source": [
    "for token in doc:\n",
    "    print(token.text, '\\t', token.pos_, '\\t', token.lemma, '\\t', token.lemma_)"
   ]
  },
  {
   "cell_type": "code",
   "execution_count": 10,
   "id": "4a83d285",
   "metadata": {},
   "outputs": [],
   "source": [
    "def show_lemmas(text):\n",
    "    for token in text:\n",
    "        print(f'{token.text:{12}} {token.pos_:{6}} {token.lemma:<{22}} {token.lemma_}')"
   ]
  },
  {
   "cell_type": "code",
   "execution_count": 12,
   "id": "25abf706",
   "metadata": {},
   "outputs": [
    {
     "name": "stdout",
     "output_type": "stream",
     "text": [
      "I            PRON   561228191312463089     -PRON-\n",
      "am           VERB   10382539506755952630   be\n",
      "a            DET    11901859001352538922   a\n",
      "runner       NOUN   12640964157389618806   runner\n",
      "running      VERB   12767647472892411841   run\n",
      "in           ADP    3002984154512732771    in\n",
      "a            DET    11901859001352538922   a\n",
      "race         NOUN   8048469955494714898    race\n",
      "because      ADP    16950148841647037698   because\n",
      "I            PRON   561228191312463089     -PRON-\n",
      "love         VERB   3702023516439754181    love\n",
      "to           PART   3791531372978436496    to\n",
      "run          VERB   12767647472892411841   run\n",
      "since        ADP    10066841407251338481   since\n",
      "I            PRON   561228191312463089     -PRON-\n",
      "ran          VERB   12767647472892411841   run\n",
      "today        NOUN   11042482332948150395   today\n",
      ".            PUNCT  12646065887601541794   .\n"
     ]
    }
   ],
   "source": [
    "show_lemmas(doc)"
   ]
  },
  {
   "cell_type": "code",
   "execution_count": 13,
   "id": "ee13aa5f",
   "metadata": {},
   "outputs": [],
   "source": [
    "doc2 = nlp(u'I saw ten mice today.')"
   ]
  },
  {
   "cell_type": "code",
   "execution_count": 15,
   "id": "82b5e898",
   "metadata": {},
   "outputs": [
    {
     "name": "stdout",
     "output_type": "stream",
     "text": [
      "I            PRON   561228191312463089     -PRON-\n",
      "saw          VERB   11925638236994514241   see\n",
      "ten          NUM    7970704286052693043    ten\n",
      "mice         NOUN   1384165645700560590    mouse\n",
      "today        NOUN   11042482332948150395   today\n",
      ".            PUNCT  12646065887601541794   .\n"
     ]
    }
   ],
   "source": [
    "show_lemmas(doc2)"
   ]
  },
  {
   "cell_type": "markdown",
   "id": "03228dc5",
   "metadata": {},
   "source": [
    "## Stop WOrds"
   ]
  },
  {
   "cell_type": "code",
   "execution_count": 18,
   "id": "754e26cd",
   "metadata": {},
   "outputs": [
    {
     "name": "stdout",
     "output_type": "stream",
     "text": [
      "{'sixty', 'done', 'full', 'again', 'whatever', 'about', 'doing', 'beyond', 'one', 'both', 'ten', 'two', 'get', 'would', 'you', 'was', 'anywhere', 'show', 'whither', 'must', 'therein', 'however', 'four', 'thereupon', 'down', 'further', 'less', 'same', 'with', 'some', 'seemed', 'at', 'made', 'other', 'noone', 'yours', 'for', 'should', 'these', 'himself', 'themselves', 'alone', 'except', 'formerly', 'does', 'has', 'since', 'their', 'towards', 'perhaps', 'everywhere', 'else', 'there', 'during', 'go', 'the', 'any', 'anything', 'if', 'meanwhile', 'top', 'hereby', 'am', 'also', 'three', 'or', 'then', 'anyone', 'nor', 'six', 'forty', 'nine', 'former', 'indeed', 'moreover', 'than', 'whereby', 'never', 'either', 'seeming', 'eleven', 'wherever', 'sometime', 'and', 'to', 'really', 'ours', 'neither', 'before', 'hence', 'above', 'mine', 'nowhere', 'on', 'myself', 'thru', 'under', 'each', 'whoever', 'make', 'five', 'yourselves', 'sometimes', 'something', 'because', 'much', 'after', 'otherwise', 'against', 'once', 'through', 'upon', 'we', 'everything', 'whereupon', 'him', 'whole', 'behind', 'wherein', 'move', 'well', 'do', 'fifty', 'becoming', 'eight', 'its', 'why', 'been', 'besides', 'somewhere', 'using', 'take', 'nobody', 'between', 'such', 'thereby', 'onto', 'more', 'whether', 'while', 'have', 'that', 'please', 'an', 'throughout', 'this', 'what', 'hereafter', 'thus', 'everyone', 'out', 'keep', 'by', 'via', 'your', 'hers', 'might', 'can', 'herself', 'ourselves', 'whence', 'becomes', 'none', 'whereafter', 'across', 'every', 'up', 'so', 'twenty', 'it', 'another', 'elsewhere', 'put', 'too', 'whenever', 'itself', 'nevertheless', 'here', 're', 'become', 'used', 'several', 'though', 'will', 'yet', 'most', 'therefore', 'often', 'latter', 'when', 'few', 'quite', 'me', 'very', 'could', 'no', 'nothing', 'he', 'where', 'bottom', 'unless', 'together', 'is', 'over', 'fifteen', 'a', 'call', 'among', 'as', 'least', 'namely', 'enough', 'anyway', 'had', 'last', 'not', 'still', 'whom', 'yourself', 'someone', 'below', 'toward', 'regarding', 'say', 'thereafter', 'serious', 'many', 'see', 'third', 'always', 'but', 'in', 'name', 'be', 'i', 'whereas', 'ever', 'part', 'within', 'whose', 'along', 'ca', 'rather', 'are', 'now', 'those', 'did', 'herein', 'all', 'various', 'cannot', 'back', 'beside', 'she', 'front', 'next', 'side', 'them', 'may', 'amongst', 'own', 'thence', 'became', 'although', 'due', 'were', 'already', 'hundred', 'our', 'around', 'without', 'latterly', 'beforehand', 'being', 'somehow', 'they', 'others', 'my', 'first', 'only', 'twelve', 'empty', 'almost', 'how', 'anyhow', 'mostly', 'off', 'seem', 'even', 'from', 'seems', 'afterwards', 'which', 'until', 'give', 'just', 'who', 'her', 'into', 'his', 'of', 'us', 'hereupon', 'per', 'amount'}\n"
     ]
    }
   ],
   "source": [
    "print(nlp.Defaults.stop_words)"
   ]
  },
  {
   "cell_type": "code",
   "execution_count": 19,
   "id": "4adf8b87",
   "metadata": {},
   "outputs": [
    {
     "data": {
      "text/plain": [
       "305"
      ]
     },
     "execution_count": 19,
     "metadata": {},
     "output_type": "execute_result"
    }
   ],
   "source": [
    "len(nlp.Defaults.stop_words)"
   ]
  },
  {
   "cell_type": "code",
   "execution_count": 20,
   "id": "3543660a",
   "metadata": {},
   "outputs": [
    {
     "data": {
      "text/plain": [
       "<spacy.lexeme.Lexeme at 0x21b5f757728>"
      ]
     },
     "execution_count": 20,
     "metadata": {},
     "output_type": "execute_result"
    }
   ],
   "source": [
    "nlp.vocab['is']"
   ]
  },
  {
   "cell_type": "code",
   "execution_count": 21,
   "id": "18e9ace0",
   "metadata": {},
   "outputs": [
    {
     "data": {
      "text/plain": [
       "True"
      ]
     },
     "execution_count": 21,
     "metadata": {},
     "output_type": "execute_result"
    }
   ],
   "source": [
    "nlp.vocab['is'].is_stop"
   ]
  },
  {
   "cell_type": "code",
   "execution_count": 22,
   "id": "544f1727",
   "metadata": {},
   "outputs": [],
   "source": [
    "nlp.Defaults.stop_words.add('btw')"
   ]
  },
  {
   "cell_type": "code",
   "execution_count": 23,
   "id": "932f5c49",
   "metadata": {},
   "outputs": [],
   "source": [
    "nlp.vocab['btw'].is_stop = True"
   ]
  },
  {
   "cell_type": "code",
   "execution_count": 24,
   "id": "92c9ab8b",
   "metadata": {},
   "outputs": [
    {
     "data": {
      "text/plain": [
       "306"
      ]
     },
     "execution_count": 24,
     "metadata": {},
     "output_type": "execute_result"
    }
   ],
   "source": [
    "len(nlp.Defaults.stop_words)"
   ]
  },
  {
   "cell_type": "code",
   "execution_count": 25,
   "id": "0e908121",
   "metadata": {},
   "outputs": [
    {
     "data": {
      "text/plain": [
       "True"
      ]
     },
     "execution_count": 25,
     "metadata": {},
     "output_type": "execute_result"
    }
   ],
   "source": [
    "nlp.vocab['btw'].is_stop"
   ]
  },
  {
   "cell_type": "code",
   "execution_count": 26,
   "id": "d8705320",
   "metadata": {},
   "outputs": [],
   "source": [
    "nlp.Defaults.stop_words.remove('beyond')"
   ]
  },
  {
   "cell_type": "code",
   "execution_count": 28,
   "id": "6fb76f6a",
   "metadata": {},
   "outputs": [],
   "source": [
    "nlp.vocab['beyond'].is_stop = False"
   ]
  },
  {
   "cell_type": "code",
   "execution_count": 29,
   "id": "a7ee63b8",
   "metadata": {},
   "outputs": [
    {
     "data": {
      "text/plain": [
       "305"
      ]
     },
     "execution_count": 29,
     "metadata": {},
     "output_type": "execute_result"
    }
   ],
   "source": [
    "len(nlp.Defaults.stop_words)"
   ]
  },
  {
   "cell_type": "code",
   "execution_count": 30,
   "id": "1475f16b",
   "metadata": {},
   "outputs": [
    {
     "data": {
      "text/plain": [
       "False"
      ]
     },
     "execution_count": 30,
     "metadata": {},
     "output_type": "execute_result"
    }
   ],
   "source": [
    "nlp.vocab['beyond'].is_stop"
   ]
  },
  {
   "cell_type": "code",
   "execution_count": null,
   "id": "5931a775",
   "metadata": {},
   "outputs": [],
   "source": []
  }
 ],
 "metadata": {
  "kernelspec": {
   "display_name": "Python 3 (ipykernel)",
   "language": "python",
   "name": "python3"
  },
  "language_info": {
   "codemirror_mode": {
    "name": "ipython",
    "version": 3
   },
   "file_extension": ".py",
   "mimetype": "text/x-python",
   "name": "python",
   "nbconvert_exporter": "python",
   "pygments_lexer": "ipython3",
   "version": "3.7.11"
  }
 },
 "nbformat": 4,
 "nbformat_minor": 5
}
