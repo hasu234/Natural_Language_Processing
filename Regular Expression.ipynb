{
 "cells": [
  {
   "cell_type": "code",
   "execution_count": 1,
   "id": "66e2f531",
   "metadata": {},
   "outputs": [],
   "source": [
    "text = \"The phone number of the agent is 408-555-1234. Please call soon.\""
   ]
  },
  {
   "cell_type": "code",
   "execution_count": 3,
   "id": "81ff0a90",
   "metadata": {},
   "outputs": [
    {
     "data": {
      "text/plain": [
       "True"
      ]
     },
     "execution_count": 3,
     "metadata": {},
     "output_type": "execute_result"
    }
   ],
   "source": [
    "\"number\" in text"
   ]
  },
  {
   "cell_type": "code",
   "execution_count": 4,
   "id": "373f3a43",
   "metadata": {},
   "outputs": [],
   "source": [
    "import re"
   ]
  },
  {
   "cell_type": "code",
   "execution_count": 11,
   "id": "6728f0ca",
   "metadata": {},
   "outputs": [],
   "source": [
    "pattern = \"number\""
   ]
  },
  {
   "cell_type": "code",
   "execution_count": 12,
   "id": "c3a41a8e",
   "metadata": {},
   "outputs": [
    {
     "data": {
      "text/plain": [
       "<re.Match object; span=(10, 16), match='number'>"
      ]
     },
     "execution_count": 12,
     "metadata": {},
     "output_type": "execute_result"
    }
   ],
   "source": [
    "re.search(pattern, text)"
   ]
  },
  {
   "cell_type": "code",
   "execution_count": 13,
   "id": "c3b82830",
   "metadata": {},
   "outputs": [],
   "source": [
    "match = re.search(pattern, text)"
   ]
  },
  {
   "cell_type": "code",
   "execution_count": 14,
   "id": "8791312d",
   "metadata": {},
   "outputs": [
    {
     "data": {
      "text/plain": [
       "(10, 16)"
      ]
     },
     "execution_count": 14,
     "metadata": {},
     "output_type": "execute_result"
    }
   ],
   "source": [
    "match.span()"
   ]
  },
  {
   "cell_type": "code",
   "execution_count": 15,
   "id": "18cc1986",
   "metadata": {},
   "outputs": [
    {
     "data": {
      "text/plain": [
       "10"
      ]
     },
     "execution_count": 15,
     "metadata": {},
     "output_type": "execute_result"
    }
   ],
   "source": [
    "match.start()"
   ]
  },
  {
   "cell_type": "code",
   "execution_count": 16,
   "id": "776260fa",
   "metadata": {},
   "outputs": [
    {
     "data": {
      "text/plain": [
       "16"
      ]
     },
     "execution_count": 16,
     "metadata": {},
     "output_type": "execute_result"
    }
   ],
   "source": [
    "match.end()"
   ]
  },
  {
   "cell_type": "code",
   "execution_count": 17,
   "id": "f6e4789c",
   "metadata": {},
   "outputs": [],
   "source": [
    "text1 = \"My phone is an new phone\""
   ]
  },
  {
   "cell_type": "code",
   "execution_count": 18,
   "id": "882cd21f",
   "metadata": {},
   "outputs": [],
   "source": [
    "pattern1 = \"phone\""
   ]
  },
  {
   "cell_type": "code",
   "execution_count": 19,
   "id": "fd3bfd09",
   "metadata": {},
   "outputs": [
    {
     "data": {
      "text/plain": [
       "<re.Match object; span=(3, 8), match='phone'>"
      ]
     },
     "execution_count": 19,
     "metadata": {},
     "output_type": "execute_result"
    }
   ],
   "source": [
    "re.search(pattern1, text1)"
   ]
  },
  {
   "cell_type": "code",
   "execution_count": 21,
   "id": "28469d46",
   "metadata": {},
   "outputs": [],
   "source": [
    "match = re.search(pattern1,text1)"
   ]
  },
  {
   "cell_type": "code",
   "execution_count": 23,
   "id": "52667814",
   "metadata": {},
   "outputs": [
    {
     "data": {
      "text/plain": [
       "(3, 8)"
      ]
     },
     "execution_count": 23,
     "metadata": {},
     "output_type": "execute_result"
    }
   ],
   "source": [
    "match.span()"
   ]
  },
  {
   "cell_type": "code",
   "execution_count": 25,
   "id": "4b34c344",
   "metadata": {},
   "outputs": [],
   "source": [
    "all_matches = re.findall(pattern1,text1)"
   ]
  },
  {
   "cell_type": "code",
   "execution_count": 26,
   "id": "bafd1d9f",
   "metadata": {},
   "outputs": [
    {
     "data": {
      "text/plain": [
       "['phone', 'phone']"
      ]
     },
     "execution_count": 26,
     "metadata": {},
     "output_type": "execute_result"
    }
   ],
   "source": [
    "all_matches"
   ]
  },
  {
   "cell_type": "code",
   "execution_count": 27,
   "id": "1779b12c",
   "metadata": {},
   "outputs": [
    {
     "data": {
      "text/plain": [
       "2"
      ]
     },
     "execution_count": 27,
     "metadata": {},
     "output_type": "execute_result"
    }
   ],
   "source": [
    "len(all_matches)"
   ]
  },
  {
   "cell_type": "code",
   "execution_count": 31,
   "id": "22abe997",
   "metadata": {},
   "outputs": [
    {
     "name": "stdout",
     "output_type": "stream",
     "text": [
      "(3, 8)\n",
      "3\n",
      "8\n",
      "(19, 24)\n",
      "19\n",
      "24\n"
     ]
    }
   ],
   "source": [
    "for match in re.finditer(\"phone\", text1):\n",
    "    print(match.span())\n",
    "    print(match.start())\n",
    "    print(match.end())"
   ]
  },
  {
   "cell_type": "code",
   "execution_count": 32,
   "id": "ce09cc91",
   "metadata": {},
   "outputs": [
    {
     "data": {
      "text/plain": [
       "'The phone number of the agent is 408-555-1234. Please call soon.'"
      ]
     },
     "execution_count": 32,
     "metadata": {},
     "output_type": "execute_result"
    }
   ],
   "source": [
    "text"
   ]
  },
  {
   "cell_type": "code",
   "execution_count": 42,
   "id": "fe9e6cc5",
   "metadata": {},
   "outputs": [],
   "source": [
    "pattern = r'\\d\\d\\d-\\d\\d\\d-\\d\\d\\d'"
   ]
  },
  {
   "cell_type": "code",
   "execution_count": 44,
   "id": "6d1bb70d",
   "metadata": {},
   "outputs": [],
   "source": [
    "result = re.search(pattern,text)"
   ]
  },
  {
   "cell_type": "code",
   "execution_count": 45,
   "id": "221ab144",
   "metadata": {},
   "outputs": [
    {
     "data": {
      "text/plain": [
       "<re.Match object; span=(33, 44), match='408-555-123'>"
      ]
     },
     "execution_count": 45,
     "metadata": {},
     "output_type": "execute_result"
    }
   ],
   "source": [
    "result"
   ]
  },
  {
   "cell_type": "code",
   "execution_count": 48,
   "id": "7003b381",
   "metadata": {},
   "outputs": [
    {
     "data": {
      "text/plain": [
       "'408-555-123'"
      ]
     },
     "execution_count": 48,
     "metadata": {},
     "output_type": "execute_result"
    }
   ],
   "source": [
    "result.group()"
   ]
  },
  {
   "cell_type": "code",
   "execution_count": 49,
   "id": "4158bf92",
   "metadata": {},
   "outputs": [],
   "source": [
    "pattern = r\"\\d{3}-\\d{3}-\\d{4}\""
   ]
  },
  {
   "cell_type": "code",
   "execution_count": 50,
   "id": "61b02fd8",
   "metadata": {},
   "outputs": [],
   "source": [
    "result = re.search(pattern,text)"
   ]
  },
  {
   "cell_type": "code",
   "execution_count": 51,
   "id": "f59d5bcf",
   "metadata": {},
   "outputs": [
    {
     "data": {
      "text/plain": [
       "'408-555-1234'"
      ]
     },
     "execution_count": 51,
     "metadata": {},
     "output_type": "execute_result"
    }
   ],
   "source": [
    "result.group()"
   ]
  },
  {
   "cell_type": "code",
   "execution_count": 52,
   "id": "a83e7cae",
   "metadata": {},
   "outputs": [],
   "source": [
    "pattern = r\"(\\d{3})-(\\d{3})-(\\d{4})\""
   ]
  },
  {
   "cell_type": "code",
   "execution_count": 53,
   "id": "b771fa2f",
   "metadata": {},
   "outputs": [],
   "source": [
    "result = re.search(pattern,text)"
   ]
  },
  {
   "cell_type": "code",
   "execution_count": 55,
   "id": "548be13f",
   "metadata": {},
   "outputs": [
    {
     "data": {
      "text/plain": [
       "'555'"
      ]
     },
     "execution_count": 55,
     "metadata": {},
     "output_type": "execute_result"
    }
   ],
   "source": [
    "result.group(2)"
   ]
  },
  {
   "cell_type": "code",
   "execution_count": 66,
   "id": "2c54722b",
   "metadata": {},
   "outputs": [
    {
     "data": {
      "text/plain": [
       "<re.Match object; span=(10, 15), match='woman'>"
      ]
     },
     "execution_count": 66,
     "metadata": {},
     "output_type": "execute_result"
    }
   ],
   "source": [
    "re.search(r\"man|woman\", \"This is a woman\")"
   ]
  },
  {
   "cell_type": "code",
   "execution_count": 67,
   "id": "da920ad1",
   "metadata": {},
   "outputs": [
    {
     "data": {
      "text/plain": [
       "['cat', 'hat', 'sat']"
      ]
     },
     "execution_count": 67,
     "metadata": {},
     "output_type": "execute_result"
    }
   ],
   "source": [
    "re.findall(r'.at', \"The cat in the hat sat.\")"
   ]
  },
  {
   "cell_type": "code",
   "execution_count": 70,
   "id": "d0f427f3",
   "metadata": {},
   "outputs": [
    {
     "data": {
      "text/plain": [
       "['cat', 'hat', 'sat', 'lat']"
      ]
     },
     "execution_count": 70,
     "metadata": {},
     "output_type": "execute_result"
    }
   ],
   "source": [
    "re.findall(r'.at', \"The cat in the hat sat and splat.\")"
   ]
  },
  {
   "cell_type": "code",
   "execution_count": 71,
   "id": "85c9858c",
   "metadata": {},
   "outputs": [
    {
     "data": {
      "text/plain": [
       "[' cat', ' hat', ' sat', 'plat']"
      ]
     },
     "execution_count": 71,
     "metadata": {},
     "output_type": "execute_result"
    }
   ],
   "source": [
    "re.findall(r'..at', \"The cat in the hat sat and splat.\")"
   ]
  },
  {
   "cell_type": "code",
   "execution_count": 74,
   "id": "83762adb",
   "metadata": {},
   "outputs": [
    {
     "data": {
      "text/plain": [
       "['2']"
      ]
     },
     "execution_count": 74,
     "metadata": {},
     "output_type": "execute_result"
    }
   ],
   "source": [
    "re.findall(r\"\\d$\", \"This line is ends with 2\") #ends with"
   ]
  },
  {
   "cell_type": "code",
   "execution_count": 75,
   "id": "8fd6525c",
   "metadata": {},
   "outputs": [
    {
     "data": {
      "text/plain": [
       "['1']"
      ]
     },
     "execution_count": 75,
     "metadata": {},
     "output_type": "execute_result"
    }
   ],
   "source": [
    "re.findall(r\"^\\d\", \"1 is the starting number of the line\") #start with"
   ]
  },
  {
   "cell_type": "code",
   "execution_count": 76,
   "id": "d2ce61bf",
   "metadata": {},
   "outputs": [],
   "source": [
    "phrase = \"there are 3 numbers 34 inside 5 this sentence.\""
   ]
  },
  {
   "cell_type": "code",
   "execution_count": 79,
   "id": "68bb692f",
   "metadata": {},
   "outputs": [
    {
     "data": {
      "text/plain": [
       "['there are ', ' numbers ', ' inside ', ' this sentence.']"
      ]
     },
     "execution_count": 79,
     "metadata": {},
     "output_type": "execute_result"
    }
   ],
   "source": [
    "re.findall(r\"[^\\d]+\", phrase)   #Excluse any digit"
   ]
  },
  {
   "cell_type": "code",
   "execution_count": 111,
   "id": "246eb12a",
   "metadata": {},
   "outputs": [],
   "source": [
    "test_phrases = \"There is a string and there is some punctuation. How to remove that?\""
   ]
  },
  {
   "cell_type": "code",
   "execution_count": 112,
   "id": "701e0e99",
   "metadata": {},
   "outputs": [
    {
     "data": {
      "text/plain": [
       "['There is a string and there is some punctuation', ' How to remove that']"
      ]
     },
     "execution_count": 112,
     "metadata": {},
     "output_type": "execute_result"
    }
   ],
   "source": [
    "re.findall(r\"[^!.?]+\", test_phrases)"
   ]
  },
  {
   "cell_type": "code",
   "execution_count": 113,
   "id": "5a5dc4fc",
   "metadata": {},
   "outputs": [],
   "source": [
    "mylist = re.findall(r\"[^!.\\W ]+\", test_phrases)"
   ]
  },
  {
   "cell_type": "code",
   "execution_count": 114,
   "id": "6a628f5f",
   "metadata": {},
   "outputs": [
    {
     "data": {
      "text/plain": [
       "['There',\n",
       " 'is',\n",
       " 'a',\n",
       " 'string',\n",
       " 'and',\n",
       " 'there',\n",
       " 'is',\n",
       " 'some',\n",
       " 'punctuation',\n",
       " 'How',\n",
       " 'to',\n",
       " 'remove',\n",
       " 'that']"
      ]
     },
     "execution_count": 114,
     "metadata": {},
     "output_type": "execute_result"
    }
   ],
   "source": [
    "mylist"
   ]
  },
  {
   "cell_type": "code",
   "execution_count": 115,
   "id": "41ad0877",
   "metadata": {},
   "outputs": [
    {
     "data": {
      "text/plain": [
       "'There is a string and there is some punctuation How to remove that'"
      ]
     },
     "execution_count": 115,
     "metadata": {},
     "output_type": "execute_result"
    }
   ],
   "source": [
    "' '.join(mylist)"
   ]
  },
  {
   "cell_type": "code",
   "execution_count": 116,
   "id": "fda29fb4",
   "metadata": {},
   "outputs": [],
   "source": [
    "test_phrases = \"There is a string* and there+ is some punctuation4. How to remove that?\""
   ]
  },
  {
   "cell_type": "code",
   "execution_count": 118,
   "id": "0af1d0e7",
   "metadata": {},
   "outputs": [],
   "source": [
    "ex = re.findall(r\"[^!.\\W]+\", test_phrases)"
   ]
  },
  {
   "cell_type": "code",
   "execution_count": 119,
   "id": "3f382f51",
   "metadata": {},
   "outputs": [
    {
     "data": {
      "text/plain": [
       "'There is a string and there is some punctuation4 How to remove that'"
      ]
     },
     "execution_count": 119,
     "metadata": {},
     "output_type": "execute_result"
    }
   ],
   "source": [
    "' '.join(ex)"
   ]
  },
  {
   "cell_type": "code",
   "execution_count": 120,
   "id": "b7e5a30f",
   "metadata": {},
   "outputs": [],
   "source": [
    "text = \"Only find the hyphen-words. Where are some long-ish dash words?\""
   ]
  },
  {
   "cell_type": "code",
   "execution_count": 125,
   "id": "2eeae8a9",
   "metadata": {},
   "outputs": [
    {
     "data": {
      "text/plain": [
       "['hyphen-words', 'long-ish']"
      ]
     },
     "execution_count": 125,
     "metadata": {},
     "output_type": "execute_result"
    }
   ],
   "source": [
    "re.findall(r'[\\w]+-[\\w]+', text)"
   ]
  },
  {
   "cell_type": "code",
   "execution_count": 133,
   "id": "e1234a75",
   "metadata": {},
   "outputs": [
    {
     "name": "stdout",
     "output_type": "stream",
     "text": [
      "NLP stand for Natural Language Processing\n"
     ]
    }
   ],
   "source": [
    "abb=\"NLP\"\n",
    "tex=\"Natural Language Processing\"\n",
    "\n",
    "print(f\"{abb} stand for {tex}\")"
   ]
  },
  {
   "cell_type": "code",
   "execution_count": null,
   "id": "f356f438",
   "metadata": {},
   "outputs": [],
   "source": []
  }
 ],
 "metadata": {
  "kernelspec": {
   "display_name": "Python 3 (ipykernel)",
   "language": "python",
   "name": "python3"
  },
  "language_info": {
   "codemirror_mode": {
    "name": "ipython",
    "version": 3
   },
   "file_extension": ".py",
   "mimetype": "text/x-python",
   "name": "python",
   "nbconvert_exporter": "python",
   "pygments_lexer": "ipython3",
   "version": "3.7.11"
  }
 },
 "nbformat": 4,
 "nbformat_minor": 5
}
